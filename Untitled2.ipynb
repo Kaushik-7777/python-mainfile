{
 "cells": [
  {
   "cell_type": "code",
   "execution_count": 1,
   "id": "0a01cc70-e463-4ff9-b546-d2ce80079fcd",
   "metadata": {},
   "outputs": [
    {
     "name": "stdout",
     "output_type": "stream",
     "text": [
      "Area is 78.550000\n"
     ]
    }
   ],
   "source": [
    "# 1Python program to find Area of a circle\n",
    "\n",
    "def findArea(r):\n",
    "    PI = 3.142\n",
    "    return PI * (r*r);\n",
    "\n",
    "# Driver method\n",
    "print(\"Area is %.6f\" % findArea(5));"
   ]
  },
  {
   "cell_type": "code",
   "execution_count": 3,
   "id": "2c4f95a5-3cee-4eec-bf5c-39d1e0574bb3",
   "metadata": {},
   "outputs": [
    {
     "name": "stdin",
     "output_type": "stream",
     "text": [
      "Input an integer:  5\n"
     ]
    },
    {
     "name": "stdout",
     "output_type": "stream",
     "text": [
      "615\n"
     ]
    }
   ],
   "source": [
    "#2\n",
    "a = int(input(\"Input an integer: \"))\n",
    "# Create new integers 'n1', 'n2', and 'n3' by concatenating 'a' with itself one, two, and three times, respectively\n",
    "n1 = int(\"%s\" % a) # Convert 'a' to an integer\n",
    "n2 = int(\"%s%s\" % (a, a)) # Concatenate 'a' with itself and convert to an integer\n",
    "n3 = int(\"%s%s%s\" % (a, a, a)) # Concatenate 'a' with itself twice and convert to an integer # Calculate the sum of 'n1', 'n2', and 'n3' and print the result\n",
    "print(n1 + n2 + n3)"
   ]
  },
  {
   "cell_type": "code",
   "execution_count": 15,
   "id": "c614edf3-e2b5-47c3-bead-de67873320d2",
   "metadata": {},
   "outputs": [
    {
     "name": "stdout",
     "output_type": "stream",
     "text": [
      "The result is =  600\n",
      "The result is =  500\n"
     ]
    }
   ],
   "source": [
    "#3\n",
    "def multiplication_or_sum(num1, num2):\n",
    "    product = num1 * num2\n",
    "    if product <= 1000:\n",
    "        return product\n",
    "    else:\n",
    "        return num1 + num2\n",
    "\n",
    "result = multiplication_or_sum(20,30)\n",
    "print(\"The result is = \", result)\n",
    "\n",
    "\n",
    "result = multiplication_or_sum(50,10)\n",
    "print(\"The result is = \", result)"
   ]
  },
  {
   "cell_type": "code",
   "execution_count": 13,
   "id": "5941647a-e535-4fc0-829e-d81407eb395a",
   "metadata": {},
   "outputs": [
    {
     "name": "stdout",
     "output_type": "stream",
     "text": [
      "12 x 1 = 12\n",
      "12 x 2 = 24\n",
      "12 x 3 = 36\n",
      "12 x 4 = 48\n",
      "12 x 5 = 60\n",
      "12 x 6 = 72\n",
      "12 x 7 = 84\n",
      "12 x 8 = 96\n",
      "12 x 9 = 108\n",
      "12 x 10 = 120\n"
     ]
    }
   ],
   "source": [
    "#4 Multiplication table (from 1 to 10) in Python\n",
    "\n",
    "num = 12\n",
    "\n",
    "# To take input from the user\n",
    "# num = int(input(\"Display multiplication table of? \"))\n",
    "\n",
    "# Iterate 10 times from i = 1 to 10\n",
    "for i in range(1, 11):\n",
    "   print(num, 'x', i, '=', num*i)\n"
   ]
  },
  {
   "cell_type": "code",
   "execution_count": 16,
   "id": "552ac590-911e-4197-bff7-6534925f2bdc",
   "metadata": {},
   "outputs": [
    {
     "name": "stdout",
     "output_type": "stream",
     "text": [
      "Even numbers: 4\n",
      "Odd numbers: 5\n"
     ]
    }
   ],
   "source": [
    "#5 Creating a list of numbers\n",
    "a = [1, 2, 3, 4, 5, 6, 7, 8, 9]\n",
    "\n",
    "# Initializing counters for even and odd numbers\n",
    "even = 0\n",
    "odd = 0\n",
    "\n",
    "for num in a:\n",
    "  \n",
    "    # Checking if the number is even\n",
    "    if num % 2 == 0:  \n",
    "        even += 1\n",
    "    else:  \n",
    "        odd += 1\n",
    "\n",
    "# Printing the results\n",
    "print(\"Even numbers:\", even)\n",
    "print(\"Odd numbers:\", odd)"
   ]
  },
  {
   "cell_type": "code",
   "execution_count": 17,
   "id": "a2f5d0e0-1c9f-4485-97a1-f5ab5107afc2",
   "metadata": {},
   "outputs": [
    {
     "name": "stdout",
     "output_type": "stream",
     "text": [
      "47.00 Celsius is equivalent to: 116.60 Fahrenheit\n"
     ]
    }
   ],
   "source": [
    "# 6Temperature in celsius degree\n",
    "celsius = 47\n",
    "\n",
    "# Converting the temperature to\n",
    "# fehrenheit using the formula\n",
    "fahrenheit = (celsius * 1.8) + 32\n",
    "\n",
    "# printing the result\n",
    "print('%.2f Celsius is equivalent to: %.2f Fahrenheit'\n",
    "\t% (celsius, fahrenheit))\n"
   ]
  },
  {
   "cell_type": "code",
   "execution_count": 19,
   "id": "0ceaba23-8a8c-4f0f-bea1-e908f8dfc1d1",
   "metadata": {},
   "outputs": [
    {
     "name": "stdin",
     "output_type": "stream",
     "text": [
      " fninefie-ife\n"
     ]
    },
    {
     "name": "stdout",
     "output_type": "stream",
     "text": [
      "fninefie-ife\n"
     ]
    }
   ],
   "source": [
    "#7\n",
    "items = [n for n in input().split('-')]\n",
    "# Sort the elements in the 'items' list in lexicographical order (alphabetical and numerical sorting)\n",
    "items.sort()\n",
    "# Join the sorted elements in the 'items' list using the hyphen (\"-\") separator and print the resulting string\n",
    "print('-'.join(items))"
   ]
  },
  {
   "cell_type": "code",
   "execution_count": 20,
   "id": "5102d374-fae3-4f39-9d31-451af0802766",
   "metadata": {},
   "outputs": [
    {
     "name": "stdout",
     "output_type": "stream",
     "text": [
      "The number of lowercase characters is: 10\n",
      "The number of uppercase characters is: 3\n"
     ]
    }
   ],
   "source": [
    "#8\n",
    "Str=\"GeeksForGeeks\"\n",
    "lower=0\n",
    "upper=0\n",
    "for i in Str:\n",
    "\tif(i.islower()):\n",
    "\t\t\tlower+=1\n",
    "\telse:\n",
    "\t\t\tupper+=1\n",
    "print(\"The number of lowercase characters is:\",lower)\n",
    "print(\"The number of uppercase characters is:\",upper)\n"
   ]
  },
  {
   "cell_type": "code",
   "execution_count": 21,
   "id": "d8ebd984-23a5-4039-a072-8c2c7ebe3f0c",
   "metadata": {},
   "outputs": [
    {
     "name": "stdout",
     "output_type": "stream",
     "text": [
      "Number of Digit is 4\n",
      "Number of Alphabets is 5\n"
     ]
    }
   ],
   "source": [
    "#9\n",
    "alpha,string=0,\"Geeks1234\"\n",
    "for i in string:\n",
    "\tif (i.isalpha()):\n",
    "\t\talpha+=1\n",
    "print(\"Number of Digit is\", len(string)-alpha)\n",
    "print(\"Number of Alphabets is\", alpha)\n"
   ]
  },
  {
   "cell_type": "code",
   "execution_count": 22,
   "id": "11b4a74d-a253-4792-ba70-3578fdd5c90f",
   "metadata": {},
   "outputs": [
    {
     "name": "stdout",
     "output_type": "stream",
     "text": [
      "Current Dict is: {0: 10, 1: 20}\n",
      "Updated Dict is: {0: 10, 1: 20, 2: 30}\n"
     ]
    }
   ],
   "source": [
    "#10\n",
    "dict = {0:10, 1:20}\n",
    "print(\"Current Dict is:\" , dict)\n",
    "# adding 2\n",
    "dict.update({2:30})\n",
    "print(\"Updated Dict is:\", dict)\n",
    "# adding dict1 (key4 and key5) to dict\n",
    "#dict1 = {'key4': 'is', 'key5': 'fabulous'}\n",
    "#dict.update(dict1)\n",
    "#print(\"After adding dict1 is:\" , dict)\n",
    "# by assigning\n",
    "#dict.update(newkey1='portal')\n",
    "#print(\"After asssigning new key:\" , dict)\n"
   ]
  },
  {
   "cell_type": "code",
   "execution_count": 24,
   "id": "301bdfa3-ac95-4dd3-b141-b32f2255f881",
   "metadata": {},
   "outputs": [
    {
     "name": "stdout",
     "output_type": "stream",
     "text": [
      "{9, 10, 12, 13, 15}\n",
      "{10, 12, 13, 15}\n",
      "{12, 13, 15}\n",
      "{13, 15}\n",
      "{15}\n",
      "set()\n"
     ]
    }
   ],
   "source": [
    "#11\n",
    "def Remove(initial_set):\n",
    "\twhile initial_set:\n",
    "\t\tinitial_set.pop()\n",
    "\t\tprint(initial_set)\n",
    "\n",
    "\n",
    "initial_set = set([12, 10, 13, 15, 8, 9])\n",
    "Remove(initial_set)\n",
    "\n"
   ]
  },
  {
   "cell_type": "code",
   "execution_count": 25,
   "id": "b56a252d-5d32-47cb-b2de-f10d8ca3d7cd",
   "metadata": {},
   "outputs": [
    {
     "name": "stdout",
     "output_type": "stream",
     "text": [
      "The given set:\n",
      "(2, 4, 5, 6, 2, 3, 4, 4, 7)\n",
      "Occurrence of given item\n",
      "3\n"
     ]
    }
   ],
   "source": [
    "#12\n",
    "tuplex = 2, 4, 5, 6, 2, 3, 4, 4, 7\n",
    "# Print the contents of the 'tuplex' tuple\n",
    "print(\"The given set:\")\n",
    "print(tuplex)\n",
    "# Count the number of times the value 4 appears in the 'tuplex' tuple\n",
    "count = tuplex.count(4)\n",
    "print(\"Occurrence of given item\")\n",
    "# Print the count of how many times 4 appears\n",
    "print(count)"
   ]
  },
  {
   "cell_type": "code",
   "execution_count": 3,
   "id": "11f7fd0d-e474-450b-8eae-c6f85b3ae41a",
   "metadata": {},
   "outputs": [
    {
     "name": "stdout",
     "output_type": "stream",
     "text": [
      "Total Number of lines: 0\n"
     ]
    }
   ],
   "source": [
    "#13\n",
    "with open(\"myfile.txt\", 'r') as fp:\n",
    "\tlines = len(fp.readlines())\n",
    "\tprint('Total Number of lines:', lines)\n"
   ]
  },
  {
   "cell_type": "code",
   "execution_count": 6,
   "id": "05eba71f-5a5a-4e9f-a2aa-e0147c45799c",
   "metadata": {},
   "outputs": [
    {
     "name": "stdout",
     "output_type": "stream",
     "text": [
      "Output of Readlines before appending\n",
      "This is Delhi \n",
      "This is Paris \n",
      "This is London\n",
      "\n",
      "Output of Readlines after appending\n",
      "This is Delhi \n",
      "This is Paris \n",
      "This is London Today \n",
      "\n",
      "\n"
     ]
    }
   ],
   "source": [
    "#14\n",
    "file1 = open(\"myfile\", \"w\")\n",
    "L = [\"This is Delhi \\n\", \"This is Paris \\n\", \"This is London\"]\n",
    "file1.writelines(L)\n",
    "file1.close()\n",
    "file1 = open(\"myfile\", \"r\") # use your own file path\n",
    "print(\"Output of Readlines before appending\")\n",
    "print(file1.read())\n",
    "print()\n",
    "file1.close()\n",
    "# Append-adds at last\n",
    "file1 = open(\"myfile\", \"a\") # append mode\n",
    "file1.write(\" Today \\n\")\n",
    "file1.close()\n",
    "file1 = open(\"myfile\", \"r\")\n",
    "print(\"Output of Readlines after appending\")\n",
    "print(file1.read())\n",
    "print()\n",
    "file1.close()"
   ]
  },
  {
   "cell_type": "code",
   "execution_count": 15,
   "id": "79d1ebb2-9270-4dbb-9c4c-2c01924cfe6a",
   "metadata": {},
   "outputs": [],
   "source": [
    "import string,os\n",
    "if not os.path.exists(\"letters\"):\n",
    "      os.makedirs(\"letters\")\n",
    "for letter in string.ascii_uppercase:\n",
    "    with open(letter + \".txt\", \"w\") as f:\n",
    "          \n",
    "        f.writelines(letter)"
   ]
  },
  {
   "cell_type": "code",
   "execution_count": null,
   "id": "574b195f-9180-4dc2-8de8-cfb74967c67e",
   "metadata": {},
   "outputs": [],
   "source": []
  }
 ],
 "metadata": {
  "kernelspec": {
   "display_name": "Python 3 (ipykernel)",
   "language": "python",
   "name": "python3"
  },
  "language_info": {
   "codemirror_mode": {
    "name": "ipython",
    "version": 3
   },
   "file_extension": ".py",
   "mimetype": "text/x-python",
   "name": "python",
   "nbconvert_exporter": "python",
   "pygments_lexer": "ipython3",
   "version": "3.13.0"
  }
 },
 "nbformat": 4,
 "nbformat_minor": 5
}
